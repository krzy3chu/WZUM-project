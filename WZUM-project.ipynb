{
 "cells": [
  {
   "cell_type": "markdown",
   "metadata": {},
   "source": [
    "### Get NBA statistics"
   ]
  },
  {
   "cell_type": "code",
   "execution_count": 1,
   "metadata": {},
   "outputs": [],
   "source": [
    "import pandas as pd\n",
    "from nba_api.stats.endpoints import leagueleaders\n",
    "\n",
    "\n",
    "first_year = 2003\n",
    "last_year = 2023\n",
    "leaders_df = []\n",
    "\n",
    "for year in range(last_year-1, first_year-1, -1):\n",
    "    season = \"{}-{:02}\".format(year, (year+1) % 100)\n",
    "    leaders = leagueleaders.LeagueLeaders(per_mode48=\"Per48\", scope=\"S\", season=season, season_type_all_star=\"Regular Season\")\n",
    "    leaders_season_df = leaders.get_data_frames()[0]\n",
    "    leaders_season_df[\"SEASON\"] = season\n",
    "    leaders_df.append(leaders_season_df)\n",
    "\n",
    "leaders_df = pd.concat(leaders_df, ignore_index=True)"
   ]
  },
  {
   "cell_type": "markdown",
   "metadata": {},
   "source": [
    "### Read targets data from csv"
   ]
  },
  {
   "cell_type": "code",
   "execution_count": 2,
   "metadata": {},
   "outputs": [],
   "source": [
    "with open('target.csv') as csv_file:\n",
    "    target_names_df = pd.read_csv(csv_file)\n",
    "    target_names_df = target_names_df.iloc[:15, 1:(last_year-first_year)+1]\n",
    "\n",
    "for season in target_names_df:\n",
    "    target_names = target_names_df[season].tolist()    \n",
    "    idxs = (leaders_df['SEASON'] == season) & (leaders_df['PLAYER'].isin(target_names))\n",
    "    leaders_df.loc[idxs, 'TARGET'] = 1\n",
    "    \n",
    "leaders_df.fillna({'TARGET': 0}, inplace=True)"
   ]
  },
  {
   "cell_type": "markdown",
   "metadata": {},
   "source": [
    "### Split into train and test data"
   ]
  },
  {
   "cell_type": "code",
   "execution_count": 3,
   "metadata": {},
   "outputs": [],
   "source": [
    "test_seasons = ['2022-23', '2017-18', '2012-13', '2007-08']\n",
    "train_df = leaders_df[~leaders_df['SEASON'].isin(test_seasons)].reset_index(drop=True)\n",
    "test_df = leaders_df[leaders_df['SEASON'].isin(test_seasons)].reset_index(drop=True)"
   ]
  },
  {
   "cell_type": "markdown",
   "metadata": {},
   "source": [
    "### Prepare vectors of features and targets"
   ]
  },
  {
   "cell_type": "code",
   "execution_count": 4,
   "metadata": {},
   "outputs": [],
   "source": [
    "from sklearn.preprocessing import MinMaxScaler\n",
    "\n",
    "\n",
    "features = ['PTS', 'REB', 'FG3_PCT']\n",
    "train_data = train_df[features]\n",
    "\n",
    "scaler = MinMaxScaler()\n",
    "scaler.fit_transform(train_data)\n",
    "\n",
    "train_data_norm = scaler.transform(train_data)\n",
    "train_target = train_df['TARGET'].to_numpy()\n",
    "\n",
    "test_data_norm, test_target = [], []\n",
    "for test_season in test_seasons:\n",
    "    season_df = test_df[test_df['SEASON'] == test_season]\n",
    "\n",
    "    test_data = season_df[features]\n",
    "    test_data_norm.append(scaler.transform(test_data))\n",
    "    test_target.append(season_df['TARGET'].to_numpy())"
   ]
  },
  {
   "cell_type": "markdown",
   "metadata": {},
   "source": [
    "### Visualize data"
   ]
  },
  {
   "cell_type": "code",
   "execution_count": 5,
   "metadata": {},
   "outputs": [
    {
     "data": {
      "image/png": "[encoded data removed]",
      "text/plain": [
       "<Figure size 640x480 with 1 Axes>"
      ]
     },
     "metadata": {},
     "output_type": "display_data"
    }
   ],
   "source": [
    "import matplotlib.pyplot as plt\n",
    "\n",
    "test_season_idx = 0\n",
    "\n",
    "plt.scatter(test_data_norm[test_season_idx][:, 0], test_data_norm[test_season_idx][:, 1])\n",
    "plt.xlabel('PTS')\n",
    "plt.ylabel('REB')\n",
    "plt.show()"
   ]
  },
  {
   "cell_type": "markdown",
   "metadata": {},
   "source": [
    "### Train model"
   ]
  },
  {
   "cell_type": "code",
   "execution_count": 6,
   "metadata": {},
   "outputs": [],
   "source": [
    "from sklearn.ensemble import RandomForestRegressor\n",
    "\n",
    "\n",
    "clf = RandomForestRegressor()\n",
    "_ = clf.fit(train_data_norm, train_target)"
   ]
  },
  {
   "cell_type": "markdown",
   "metadata": {},
   "source": [
    "### Test model"
   ]
  },
  {
   "cell_type": "code",
   "execution_count": 7,
   "metadata": {},
   "outputs": [
    {
     "name": "stdout",
     "output_type": "stream",
     "text": [
      "Season  2022-23\n",
      "0       Giannis Antetokounmpo\n",
      "1                 Joel Embiid\n",
      "2                 Luka Doncic\n",
      "3              Damian Lillard\n",
      "4     Shai Gilgeous-Alexander\n",
      "5                Jayson Tatum\n",
      "6            Donovan Mitchell\n",
      "7             Lauri Markkanen\n",
      "8                Jaylen Brown\n",
      "9                Nikola Jokic\n",
      "10               Kyrie Irving\n",
      "11              DeMar DeRozan\n",
      "12             Keldon Johnson\n",
      "13              Pascal Siakam\n",
      "14                Rudy Gobert\n",
      "Name: PLAYER, dtype: object \n",
      "\n",
      "Season  2017-18\n",
      "0              James Harden\n",
      "1             Anthony Davis\n",
      "2              Kevin Durant\n",
      "3              LeBron James\n",
      "4     Giannis Antetokounmpo\n",
      "5         Russell Westbrook\n",
      "6         LaMarcus Aldridge\n",
      "7              Lou Williams\n",
      "8             DeMar DeRozan\n",
      "9           Dennis Schroder\n",
      "10             Bradley Beal\n",
      "11            Dwight Howard\n",
      "12             Goran Dragic\n",
      "13             Jusuf Nurkic\n",
      "14             Clint Capela\n",
      "Name: PLAYER, dtype: object \n",
      "\n",
      "Season  2012-13\n",
      "0       Carmelo Anthony\n",
      "1          Kevin Durant\n",
      "2           Kobe Bryant\n",
      "3          LeBron James\n",
      "4     Russell Westbrook\n",
      "5           Brook Lopez\n",
      "6      DeMarcus Cousins\n",
      "7         Blake Griffin\n",
      "8          Al Jefferson\n",
      "9          Kevin Martin\n",
      "10            David Lee\n",
      "11         JaVale McGee\n",
      "12           Al Horford\n",
      "13      Thomas Robinson\n",
      "14           Lamar Odom\n",
      "Name: PLAYER, dtype: object \n",
      "\n",
      "Season  2007-08\n",
      "0          LeBron James\n",
      "1     Amar'e Stoudemire\n",
      "2           Kobe Bryant\n",
      "3       Carmelo Anthony\n",
      "4         Dirk Nowitzki\n",
      "5         Carlos Boozer\n",
      "6              Yao Ming\n",
      "7          Al Jefferson\n",
      "8         Kevin Garnett\n",
      "9            Chris Paul\n",
      "10        Dwight Howard\n",
      "11          Paul Pierce\n",
      "12        Zach Randolph\n",
      "13     Richard Hamilton\n",
      "14         Reggie Evans\n",
      "Name: PLAYER, dtype: object \n",
      "\n"
     ]
    }
   ],
   "source": [
    "import numpy as np\n",
    "\n",
    "\n",
    "for idx, test_season in enumerate(test_seasons):\n",
    "    test_season_df = test_df[test_df['SEASON'] == test_season]\n",
    "\n",
    "    predictions = clf.predict(test_data_norm[idx])\n",
    "    top_15_idxs = np.argpartition(predictions, -15)[-15:]\n",
    "\n",
    "    predictions_binary = np.zeros_like(predictions)\n",
    "    predictions_binary[top_15_idxs] = 1\n",
    "\n",
    "    print(\"Season \", test_season)\n",
    "    print(test_season_df['PLAYER'][predictions_binary == 1].reset_index(drop=True), '\\n')"
   ]
  }
 ],
 "metadata": {
  "kernelspec": {
   "display_name": ".venv",
   "language": "python",
   "name": "python3"
  },
  "language_info": {
   "codemirror_mode": {
    "name": "ipython",
    "version": 3
   },
   "file_extension": ".py",
   "mimetype": "text/x-python",
   "name": "python",
   "nbconvert_exporter": "python",
   "pygments_lexer": "ipython3",
   "version": "3.10.12"
  }
 },
 "nbformat": 4,
 "nbformat_minor": 2
}
