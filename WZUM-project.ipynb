{
 "cells": [
  {
   "cell_type": "markdown",
   "metadata": {},
   "source": [
    "### Get NBA statistics"
   ]
  },
  {
   "cell_type": "code",
   "execution_count": 1,
   "metadata": {},
   "outputs": [],
   "source": [
    "import pandas as pd\n",
    "from nba_api.stats.endpoints import leagueleaders\n",
    "\n",
    "\n",
    "first_year = 2013\n",
    "last_year = 2024\n",
    "leaders_df = []\n",
    "\n",
    "for year in range(last_year-1, first_year-1, -1):\n",
    "    season = \"{}-{:02}\".format(year, (year+1) % 100)\n",
    "    leaders = leagueleaders.LeagueLeaders(per_mode48=\"Per48\", scope=\"S\", season=season, season_type_all_star=\"Regular Season\")\n",
    "    leaders_season_df = leaders.get_data_frames()[0]\n",
    "    leaders_season_df[\"SEASON\"] = season\n",
    "    leaders_df.append(leaders_season_df)\n",
    "\n",
    "leaders_df = pd.concat(leaders_df, ignore_index=True)"
   ]
  },
  {
   "cell_type": "markdown",
   "metadata": {},
   "source": [
    "### Read targets data from csv"
   ]
  },
  {
   "cell_type": "code",
   "execution_count": 2,
   "metadata": {},
   "outputs": [],
   "source": [
    "with open('target.csv') as csv_file:\n",
    "    target_names_df = pd.read_csv(csv_file)\n",
    "    target_names_df = target_names_df.iloc[:15, (last_year-2024):(last_year-first_year)]\n",
    "\n",
    "for season in target_names_df:\n",
    "    target_names = target_names_df[season].tolist()    \n",
    "    idxs = (leaders_df['SEASON'] == season) & (leaders_df['PLAYER'].isin(target_names))\n",
    "    leaders_df.loc[idxs, 'TARGET'] = 1\n",
    "    \n",
    "leaders_df.fillna({'TARGET': 0}, inplace=True)"
   ]
  },
  {
   "cell_type": "markdown",
   "metadata": {},
   "source": [
    "### Split into train and test data"
   ]
  },
  {
   "cell_type": "code",
   "execution_count": 3,
   "metadata": {},
   "outputs": [],
   "source": [
    "test_seasons = ['2023-24']\n",
    "train_df = leaders_df[~leaders_df['SEASON'].isin(test_seasons)].reset_index(drop=True)\n",
    "test_df = leaders_df[leaders_df['SEASON'].isin(test_seasons)].reset_index(drop=True)"
   ]
  },
  {
   "cell_type": "markdown",
   "metadata": {},
   "source": [
    "### Prepare vectors of features and targets"
   ]
  },
  {
   "cell_type": "code",
   "execution_count": 4,
   "metadata": {},
   "outputs": [],
   "source": [
    "from sklearn.preprocessing import MinMaxScaler\n",
    "\n",
    "\n",
    "features = ['GP', 'MIN', 'PTS', 'FGM', 'FGA', 'FG3M', 'FG3A', 'FTM', 'FTA', 'REB']\n",
    "train_data = train_df[features]\n",
    "\n",
    "scaler = MinMaxScaler()\n",
    "scaler.fit_transform(train_data)\n",
    "\n",
    "train_data_norm = scaler.transform(train_data)\n",
    "train_target = train_df['TARGET'].to_numpy()\n",
    "\n",
    "test_data_norm, test_target = [], []\n",
    "for test_season in test_seasons:\n",
    "    season_df = test_df[test_df['SEASON'] == test_season]\n",
    "\n",
    "    test_data = season_df[features]\n",
    "    test_data_norm.append(scaler.transform(test_data))\n",
    "    test_target.append(season_df['TARGET'].to_numpy())"
   ]
  },
  {
   "cell_type": "markdown",
   "metadata": {},
   "source": [
    "### Visualize data"
   ]
  },
  {
   "cell_type": "code",
   "execution_count": 5,
   "metadata": {},
   "outputs": [
    {
     "data": {
      "image/png": "[encoded data removed]",
      "text/plain": [
       "<Figure size 640x480 with 1 Axes>"
      ]
     },
     "metadata": {},
     "output_type": "display_data"
    }
   ],
   "source": [
    "import matplotlib.pyplot as plt\n",
    "\n",
    "\n",
    "test_season_idx = 0\n",
    "feature_1_idx = 1\n",
    "feature_2_idx = 2\n",
    "\n",
    "plt.scatter(test_data_norm[test_season_idx][:, feature_1_idx], test_data_norm[test_season_idx][:, feature_2_idx])\n",
    "plt.xlabel(features[feature_1_idx])\n",
    "plt.ylabel(features[feature_2_idx])\n",
    "plt.show()"
   ]
  },
  {
   "cell_type": "markdown",
   "metadata": {},
   "source": [
    "### Train model"
   ]
  },
  {
   "cell_type": "code",
   "execution_count": 6,
   "metadata": {},
   "outputs": [],
   "source": [
    "from sklearn.ensemble import RandomForestRegressor\n",
    "\n",
    "\n",
    "clf = RandomForestRegressor()\n",
    "_ = clf.fit(train_data_norm, train_target)"
   ]
  },
  {
   "cell_type": "markdown",
   "metadata": {},
   "source": [
    "### Test model"
   ]
  },
  {
   "cell_type": "code",
   "execution_count": 7,
   "metadata": {},
   "outputs": [],
   "source": [
    "import numpy as np\n",
    "\n",
    "\n",
    "prediction_df = []\n",
    "for idx, test_season in enumerate(test_seasons):\n",
    "    test_season_df = test_df[test_df['SEASON'] == test_season]\n",
    "\n",
    "    prediction = clf.predict(test_data_norm[idx])\n",
    "    top_15_idxs = np.argpartition(prediction, -15)[-15:]\n",
    "\n",
    "    prediction_binary = np.zeros_like(prediction)\n",
    "    prediction_binary[top_15_idxs] = 1\n",
    "\n",
    "    prediction_names = test_season_df['PLAYER'][prediction_binary == 1].reset_index(drop=True)\n",
    "    prediction_names.name = test_season\n",
    "    prediction_df.append(prediction_names)\n",
    "\n",
    "prediction_df = pd.concat(prediction_df, axis=1)"
   ]
  },
  {
   "cell_type": "markdown",
   "metadata": {},
   "source": [
    "### Calculate predictions score"
   ]
  },
  {
   "cell_type": "code",
   "execution_count": 8,
   "metadata": {},
   "outputs": [
    {
     "name": "stdout",
     "output_type": "stream",
     "text": [
      "Season 2023-24\n",
      "                     PLAYER  SCORE\n",
      "0               Luka Doncic     10\n",
      "1   Shai Gilgeous-Alexander     10\n",
      "2     Giannis Antetokounmpo     10\n",
      "3             Jalen Brunson      8\n",
      "4             Stephen Curry      6\n",
      "5              Nikola Jokic      8\n",
      "6              Jayson Tatum      8\n",
      "7           Anthony Edwards     10\n",
      "8              De'Aaron Fox      0\n",
      "9              Kevin Durant     10\n",
      "10             LeBron James     10\n",
      "11          Zion Williamson      0\n",
      "12            Anthony Davis      8\n",
      "13              Paul George      0\n",
      "14           Paolo Banchero      0\n",
      "Bonus: 15\n",
      "Total score: 113\n"
     ]
    }
   ],
   "source": [
    "for season in prediction_df:\n",
    "    prediction = prediction_df[season].to_list()\n",
    "    target = target_names_df[season].to_list()\n",
    "    target_teams = np.array([target[i*5:(i+1)*5] for i in range(3)])\n",
    "\n",
    "    bonus_val = [0, 0, 5, 10, 20, 40]\n",
    "    \n",
    "    scores_dict = {}\n",
    "    for i, name in enumerate(prediction):\n",
    "        idx_prediction = i // 5\n",
    "        idx_target = np.where(target_teams == name)[0]\n",
    "\n",
    "        if idx_target.size == 0:\n",
    "            score = 0\n",
    "        elif idx_prediction == idx_target[0]:\n",
    "            score = 10\n",
    "        elif abs(idx_prediction - idx_target[0]) == 1:\n",
    "            score = 8\n",
    "        elif abs(idx_prediction - idx_target[0]) == 2:\n",
    "            score = 6\n",
    "\n",
    "        scores_dict[name] = score\n",
    "    \n",
    "    scores = np.array(list(scores_dict.values()))\n",
    "    score = scores.sum()\n",
    "\n",
    "    scores_teams = np.array([scores[i*5:(i+1)*5] for i in range(3)])\n",
    "    bonus = sum(bonus_val[np.count_nonzero(team == 10)] for team in scores_teams)\n",
    "    score += bonus\n",
    "\n",
    "    scores_df = pd.DataFrame(scores_dict.items(), columns=['PLAYER', 'SCORE'])\n",
    "\n",
    "    print('Season', season)\n",
    "    print(scores_df)\n",
    "    print('Bonus:', bonus)\n",
    "    print('Total score:', score)"
   ]
  },
  {
   "cell_type": "code",
   "execution_count": 9,
   "metadata": {},
   "outputs": [
    {
     "data": {
      "text/html": [
       "<div>\n",
       "<style scoped>\n",
       "    .dataframe tbody tr th:only-of-type {\n",
       "        vertical-align: middle;\n",
       "    }\n",
       "\n",
       "    .dataframe tbody tr th {\n",
       "        vertical-align: top;\n",
       "    }\n",
       "\n",
       "    .dataframe thead th {\n",
       "        text-align: right;\n",
       "    }\n",
       "</style>\n",
       "<table border=\"1\" class=\"dataframe\">\n",
       "  <thead>\n",
       "    <tr style=\"text-align: right;\">\n",
       "      <th></th>\n",
       "      <th>2023-24</th>\n",
       "    </tr>\n",
       "  </thead>\n",
       "  <tbody>\n",
       "    <tr>\n",
       "      <th>0</th>\n",
       "      <td>Luka Doncic</td>\n",
       "    </tr>\n",
       "    <tr>\n",
       "      <th>1</th>\n",
       "      <td>Shai Gilgeous-Alexander</td>\n",
       "    </tr>\n",
       "    <tr>\n",
       "      <th>2</th>\n",
       "      <td>Giannis Antetokounmpo</td>\n",
       "    </tr>\n",
       "    <tr>\n",
       "      <th>3</th>\n",
       "      <td>Jalen Brunson</td>\n",
       "    </tr>\n",
       "    <tr>\n",
       "      <th>4</th>\n",
       "      <td>Stephen Curry</td>\n",
       "    </tr>\n",
       "    <tr>\n",
       "      <th>5</th>\n",
       "      <td>Nikola Jokic</td>\n",
       "    </tr>\n",
       "    <tr>\n",
       "      <th>6</th>\n",
       "      <td>Jayson Tatum</td>\n",
       "    </tr>\n",
       "    <tr>\n",
       "      <th>7</th>\n",
       "      <td>Anthony Edwards</td>\n",
       "    </tr>\n",
       "    <tr>\n",
       "      <th>8</th>\n",
       "      <td>De'Aaron Fox</td>\n",
       "    </tr>\n",
       "    <tr>\n",
       "      <th>9</th>\n",
       "      <td>Kevin Durant</td>\n",
       "    </tr>\n",
       "    <tr>\n",
       "      <th>10</th>\n",
       "      <td>LeBron James</td>\n",
       "    </tr>\n",
       "    <tr>\n",
       "      <th>11</th>\n",
       "      <td>Zion Williamson</td>\n",
       "    </tr>\n",
       "    <tr>\n",
       "      <th>12</th>\n",
       "      <td>Anthony Davis</td>\n",
       "    </tr>\n",
       "    <tr>\n",
       "      <th>13</th>\n",
       "      <td>Paul George</td>\n",
       "    </tr>\n",
       "    <tr>\n",
       "      <th>14</th>\n",
       "      <td>Paolo Banchero</td>\n",
       "    </tr>\n",
       "  </tbody>\n",
       "</table>\n",
       "</div>"
      ],
      "text/plain": [
       "                    2023-24\n",
       "0               Luka Doncic\n",
       "1   Shai Gilgeous-Alexander\n",
       "2     Giannis Antetokounmpo\n",
       "3             Jalen Brunson\n",
       "4             Stephen Curry\n",
       "5              Nikola Jokic\n",
       "6              Jayson Tatum\n",
       "7           Anthony Edwards\n",
       "8              De'Aaron Fox\n",
       "9              Kevin Durant\n",
       "10             LeBron James\n",
       "11          Zion Williamson\n",
       "12            Anthony Davis\n",
       "13              Paul George\n",
       "14           Paolo Banchero"
      ]
     },
     "execution_count": 9,
     "metadata": {},
     "output_type": "execute_result"
    }
   ],
   "source": [
    "prediction_df"
   ]
  },
  {
   "cell_type": "code",
   "execution_count": 10,
   "metadata": {},
   "outputs": [
    {
     "data": {
      "text/html": [
       "<div>\n",
       "<style scoped>\n",
       "    .dataframe tbody tr th:only-of-type {\n",
       "        vertical-align: middle;\n",
       "    }\n",
       "\n",
       "    .dataframe tbody tr th {\n",
       "        vertical-align: top;\n",
       "    }\n",
       "\n",
       "    .dataframe thead th {\n",
       "        text-align: right;\n",
       "    }\n",
       "</style>\n",
       "<table border=\"1\" class=\"dataframe\">\n",
       "  <thead>\n",
       "    <tr style=\"text-align: right;\">\n",
       "      <th></th>\n",
       "      <th>2023-24</th>\n",
       "    </tr>\n",
       "  </thead>\n",
       "  <tbody>\n",
       "    <tr>\n",
       "      <th>0</th>\n",
       "      <td>Giannis Antetokounmpo</td>\n",
       "    </tr>\n",
       "    <tr>\n",
       "      <th>1</th>\n",
       "      <td>Luka Doncic</td>\n",
       "    </tr>\n",
       "    <tr>\n",
       "      <th>2</th>\n",
       "      <td>Shai Gilgeous-Alexander</td>\n",
       "    </tr>\n",
       "    <tr>\n",
       "      <th>3</th>\n",
       "      <td>Nikola Jokic</td>\n",
       "    </tr>\n",
       "    <tr>\n",
       "      <th>4</th>\n",
       "      <td>Jayson Tatum</td>\n",
       "    </tr>\n",
       "    <tr>\n",
       "      <th>5</th>\n",
       "      <td>Jalen Brunson</td>\n",
       "    </tr>\n",
       "    <tr>\n",
       "      <th>6</th>\n",
       "      <td>Anthony Davis</td>\n",
       "    </tr>\n",
       "    <tr>\n",
       "      <th>7</th>\n",
       "      <td>Kevin Durant</td>\n",
       "    </tr>\n",
       "    <tr>\n",
       "      <th>8</th>\n",
       "      <td>Anthony Edwards</td>\n",
       "    </tr>\n",
       "    <tr>\n",
       "      <th>9</th>\n",
       "      <td>Kawhi Leonard</td>\n",
       "    </tr>\n",
       "    <tr>\n",
       "      <th>10</th>\n",
       "      <td>Devin Booker</td>\n",
       "    </tr>\n",
       "    <tr>\n",
       "      <th>11</th>\n",
       "      <td>Stephen Curry</td>\n",
       "    </tr>\n",
       "    <tr>\n",
       "      <th>12</th>\n",
       "      <td>Tyrese Haliburton</td>\n",
       "    </tr>\n",
       "    <tr>\n",
       "      <th>13</th>\n",
       "      <td>LeBron James</td>\n",
       "    </tr>\n",
       "    <tr>\n",
       "      <th>14</th>\n",
       "      <td>Domantas Sabonis</td>\n",
       "    </tr>\n",
       "  </tbody>\n",
       "</table>\n",
       "</div>"
      ],
      "text/plain": [
       "                    2023-24\n",
       "0     Giannis Antetokounmpo\n",
       "1               Luka Doncic\n",
       "2   Shai Gilgeous-Alexander\n",
       "3              Nikola Jokic\n",
       "4              Jayson Tatum\n",
       "5             Jalen Brunson\n",
       "6             Anthony Davis\n",
       "7              Kevin Durant\n",
       "8           Anthony Edwards\n",
       "9             Kawhi Leonard\n",
       "10             Devin Booker\n",
       "11            Stephen Curry\n",
       "12        Tyrese Haliburton\n",
       "13             LeBron James\n",
       "14         Domantas Sabonis"
      ]
     },
     "execution_count": 10,
     "metadata": {},
     "output_type": "execute_result"
    }
   ],
   "source": [
    "target_names_df[test_seasons]"
   ]
  }
 ],
 "metadata": {
  "kernelspec": {
   "display_name": ".venv",
   "language": "python",
   "name": "python3"
  },
  "language_info": {
   "codemirror_mode": {
    "name": "ipython",
    "version": 3
   },
   "file_extension": ".py",
   "mimetype": "text/x-python",
   "name": "python",
   "nbconvert_exporter": "python",
   "pygments_lexer": "ipython3",
   "version": "3.10.12"
  }
 },
 "nbformat": 4,
 "nbformat_minor": 2
}
